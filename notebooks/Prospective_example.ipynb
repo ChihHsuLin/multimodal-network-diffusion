{
 "cells": [
  {
   "cell_type": "code",
   "execution_count": null,
   "metadata": {
    "collapsed": false
   },
   "outputs": [],
   "source": [
    "import sys\n",
    "import os\n",
    "from dotenv import load_dotenv, find_dotenv\n",
    "load_dotenv(find_dotenv())\n",
    "PROJECT_DIR = os.getenv(\"PROJECT_DIR\")\n",
    "sys.path.append(PROJECT_DIR+'/src')\n",
    "import paths\n",
    "from GraphRepresentation5 import GraphRepresentation5\n",
    "from AptRank import AptRank\n",
    "from GraphBasedDiffusion import GraphBasedDiffusion\n",
    "from RandomWalkDiffusion import RandomWalkDiffusion\n",
    "from prospective import prospective\n",
    "from IPython import embed\n",
    "from time import time\n",
    "from utility import setNetworks, generateDegree1net\n",
    "import pandas as pd\n",
    "from collections import defaultdict as ddict\n",
    "import matplotlib.pyplot as plt\n",
    "import seaborn as sns\n",
    "from glob import glob as glob\n",
    "import numpy as np"
   ]
  },
  {
   "cell_type": "markdown",
   "metadata": {},
   "source": [
    "# Set up experiments"
   ]
  },
  {
   "cell_type": "code",
   "execution_count": null,
   "metadata": {
    "collapsed": true
   },
   "outputs": [],
   "source": [
    "# Files and data location\n",
    "FDAdrugsFile = paths.PROJECT_DIR + '/data/other/full database_12132016_FDAdrugsFormatedmappedFiltered.txt'\n",
    "MeSH_name_file1 = paths.PROJECT_DIR + '/data/other/c2016.bin_dict'\n",
    "MeSH_name_file2 = paths.PROJECT_DIR + '/data/other/d2016.bin_dict'\n",
    "experiment = 'DG'"
   ]
  },
  {
   "cell_type": "code",
   "execution_count": null,
   "metadata": {
    "collapsed": false
   },
   "outputs": [],
   "source": [
    "# Load network settings\n",
    "networkNames, conns, selectedQueryModes, selectedPredictionModes = setNetworks(2016, 'Prospective', experiment, paths.NETWORK_MAPPING_FILE, paths.NETWORK_DATA_DIR)\n",
    "print('Going to load networks: {} for {} experiment'.format(networkNames, experiment))\n",
    "print('Query modes: {}'.format(selectedQueryModes))\n",
    "print('Prediction modes: {}'.format(selectedPredictionModes))"
   ]
  },
  {
   "cell_type": "code",
   "execution_count": null,
   "metadata": {
    "collapsed": false
   },
   "outputs": [],
   "source": [
    "# Set algorithms for testing\n",
    "algorithms = [GraphBasedDiffusion, RandomWalkDiffusion, AptRank]\n",
    "algorithmNames = ['GID', 'RW', 'AptRank']\n",
    "\n",
    "# Trim iteratively the nodes which have degree = 1 in the last input network\n",
    "# (Assuming the last input network is the largest one)\n",
    "_net, removedNodes = generateDegree1net(conns[-1], paths.NETWORK_MAPPING_FILE)\n",
    "\n",
    "# Load a query list of 10 diseases as input\n",
    "inputListFile = PROJECT_DIR + '/data/prospective_input_list/top10DieasesFormatedmappedFiltered.txt'\n",
    "inputList = pd.read_csv(inputListFile, sep=\"\\t\", header=None)[0].values\n",
    "inputListInitialNames = pd.read_csv(\n",
    "    inputListFile, sep=\"\\t\", header=None)[4].values\n",
    "inputPrefix = inputListFile.split('/')[-1].split('.')[0]\n",
    "print('Initial names: {}'.format(inputListInitialNames),'Mapped id: {}'.format(inputList))"
   ]
  },
  {
   "cell_type": "markdown",
   "metadata": {},
   "source": [
    "# Run experiments for different combination of algorithms and networks "
   ]
  },
  {
   "cell_type": "code",
   "execution_count": null,
   "metadata": {
    "collapsed": false
   },
   "outputs": [],
   "source": [
    "# Only run the first network for testing\n",
    "# The Largest network requires 256GB of memory\n",
    "networkNames = [networkNames[0]]\n",
    "for algorithm, algorithmName in zip(algorithms, algorithmNames):\n",
    "    for i in range(len(networkNames)):\n",
    "        currQueryMode = selectedQueryModes[i]\n",
    "        currPredictionMode = selectedPredictionModes[i]\n",
    "        print 'Running Prospective for {} using {}'.format(experiment, algorithmName)\n",
    "        currNet, _removedNodes = generateDegree1net(\n",
    "            conns[i], paths.NETWORK_MAPPING_FILE, removedNodes)\n",
    "        currName = networkNames[i]\n",
    "        print(currNet)\n",
    "        validation = prospective(name=inputPrefix, algorithm=algorithm, network=currNet,\n",
    "                                 selectedEntityList=inputList, selectedEntityInitName=inputListInitialNames,\n",
    "                                 selectedPredictionMode=currPredictionMode,\n",
    "                                 selectedQueryMode=currQueryMode,\n",
    "                                 mappingFile=paths.NETWORK_MAPPING_FILE, FDAdrugsFile=FDAdrugsFile,\n",
    "                                 MeSH_name_file1=MeSH_name_file1, MeSH_name_file2=MeSH_name_file2,\n",
    "                                 splitPerformanceByEntity=True)\n",
    "        validation.perform()"
   ]
  },
  {
   "cell_type": "code",
   "execution_count": null,
   "metadata": {
    "collapsed": false
   },
   "outputs": [],
   "source": [
    "# Load one of the predictions for visualization\n",
    "pred_files = glob(paths.VALIDATION_RESULT_DIR+'/prospective/AptRank1_CTD2016DG_Degree_1*/*_pred.tsv')\n",
    "df = pd.read_csv(pred_files[0], sep=\"\\t\")\n",
    "sortby = 'Breast Neoplasms'\n",
    "df.index=df['Synonyms']\n",
    "# Subset the predictions which are not known in the networks\n",
    "df_score = df.loc[df['known_'+sortby]==0]\n",
    "col_score = [x for x in df.columns if 'score_' in x]\n",
    "df_score = df_score[col_score]\n",
    "df_score.columns = [x.replace('score_','') for x in df_score.columns]\n",
    "df_score = df_score.sort_values(sortby)\n",
    "df_score.tail().iloc[::-1]"
   ]
  },
  {
   "cell_type": "markdown",
   "metadata": {},
   "source": [
    "## An interactive heatmap for viewing predictions:\n",
    "- Use cursor to select/crop part of the heatmap to zoom in\n",
    "- Hover cursor to view the x, y, and prediction values (z)\n",
    "- Click three times or click 'Autosclale'/'Reset axes' (on the right panel) to zoom out"
   ]
  },
  {
   "cell_type": "code",
   "execution_count": null,
   "metadata": {
    "collapsed": false
   },
   "outputs": [],
   "source": [
    "from plotly.offline import download_plotlyjs, init_notebook_mode, plot, iplot\n",
    "import plotly.graph_objs as go\n",
    "init_notebook_mode(connected=True)\n",
    "trace = go.Heatmap(z=df_score.values,\n",
    "                   x=df_score.columns,\n",
    "                   y=df_score.index,\n",
    "                   reversescale=True,\n",
    "                   colorscale=[[0, 'rgb(165,0,38)'], \n",
    "                              [0.91111111111111111, 'rgb(215,48,39)'], \n",
    "                              [0.92222222222222222, 'rgb(244,109,67)'], \n",
    "                              [0.93333333333333333, 'rgb(253,174,97)'], \n",
    "                              [0.94444444444444444, 'rgb(254,224,144)'], \n",
    "                              [0.95555555555555556, 'rgb(224,243,248)'], \n",
    "                              [0.96666666666666666, 'rgb(171,217,233)'], \n",
    "                              [0.97777777777777778, 'rgb(116,173,209)'], \n",
    "                              [0.98888888888888888, 'rgb(69,117,180)'], \n",
    "                              [1, 'rgb(49,54,149)']])\n",
    "data=[trace]\n",
    "iplot(data, filename='labelled-heatmap')\n"
   ]
  },
  {
   "cell_type": "code",
   "execution_count": null,
   "metadata": {
    "collapsed": true
   },
   "outputs": [],
   "source": []
  }
 ],
 "metadata": {
  "kernelspec": {
   "display_name": "Python (Diffusion2018)",
   "language": "python",
   "name": "diffusion2018"
  },
  "language_info": {
   "codemirror_mode": {
    "name": "ipython",
    "version": 2
   },
   "file_extension": ".py",
   "mimetype": "text/x-python",
   "name": "python",
   "nbconvert_exporter": "python",
   "pygments_lexer": "ipython2",
   "version": "2.7.13"
  }
 },
 "nbformat": 4,
 "nbformat_minor": 2
}
